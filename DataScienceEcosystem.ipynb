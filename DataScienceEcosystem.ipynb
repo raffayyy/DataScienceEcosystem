{
 "cells": [
  {
   "cell_type": "markdown",
   "id": "abf6474f-274b-4e46-a8d6-a47a7676d014",
   "metadata": {},
   "source": [
    "# Data Science Tools and Ecosystem"
   ]
  },
  {
   "cell_type": "markdown",
   "id": "1542a8e9-be63-4d1a-92db-22d5a4713726",
   "metadata": {},
   "source": [
    "In this notebook, Data Science Tools and Ecosystem are summarized."
   ]
  },
  {
   "cell_type": "markdown",
   "id": "fa27aca6-bc89-4c7b-91ba-b384e45b19d8",
   "metadata": {},
   "source": [
    "## Popular Data Science Languages\n",
    "\n",
    "Some of the popular languages that Data Scientists use are:\n",
    "\n",
    "1. Python\n",
    "2. R\n",
    "3. SQL\n",
    "4. Julia\n",
    "5. Java"
   ]
  },
  {
   "cell_type": "markdown",
   "id": "e9ba1805-b588-40bd-9cd2-be4c837b61c8",
   "metadata": {},
   "source": [
    "## Commonly Used Data Science Libraries\n",
    "\n",
    "Some of the commonly used libraries used by Data Scientists include:\n",
    "\n",
    "1. Pandas - for data manipulation and analysis.\n",
    "2. NumPy - for numerical computing and working with arrays.\n",
    "3. Matplotlib - for data visualization and graphical plotting.\n",
    "4. Scikit-learn - for machine learning and data mining.\n",
    "5. TensorFlow - for deep learning and neural networks.\n"
   ]
  },
  {
   "cell_type": "markdown",
   "id": "17caa62c-e2cf-4753-9bf9-46d154314a27",
   "metadata": {},
   "source": [
    "## Data Science Tools\n",
    "\n",
    "| Data Science Tools  |\n",
    "|---------------------|\n",
    "| Jupyter Notebooks   |\n",
    "| RStudio             |\n",
    "| Apache Zeppelin     |\n"
   ]
  },
  {
   "cell_type": "markdown",
   "id": "4abf2b6f-7a3e-48df-ba8c-d56e54fd51d6",
   "metadata": {},
   "source": [
    "### Below are a few examples of evaluating arithmetic expressions in Python."
   ]
  },
  {
   "cell_type": "code",
   "execution_count": 1,
   "id": "d8834d43-ced8-4665-9aa5-0f26da073bfc",
   "metadata": {
    "tags": []
   },
   "outputs": [
    {
     "name": "stdout",
     "output_type": "stream",
     "text": [
      "17\n"
     ]
    }
   ],
   "source": [
    "# This is a simple arithmetic expression to multiply then add integers.\n",
    "result = (3 * 4) + 5\n",
    "print(result)"
   ]
  },
  {
   "cell_type": "code",
   "execution_count": 2,
   "id": "b60efcd9-03a5-443a-8ab6-ae4e294e5256",
   "metadata": {
    "tags": []
   },
   "outputs": [
    {
     "name": "stdout",
     "output_type": "stream",
     "text": [
      "200 minutes is equal to 3.3333333333333335 hours.\n"
     ]
    }
   ],
   "source": [
    "# This will convert 200 minutes to hours by dividing by 60.\n",
    "minutes = 200\n",
    "hours = minutes / 60\n",
    "print(f\"{minutes} minutes is equal to {hours} hours.\")\n"
   ]
  },
  {
   "cell_type": "markdown",
   "id": "6868f16b-1b8d-4921-8341-cdea7975f01f",
   "metadata": {},
   "source": [
    "## Objectives:\n",
    "\n",
    "- Understand popular languages used in Data Science.\n",
    "- Explore commonly used libraries for Data Science tasks.\n",
    "- Identify key tools and environments in the Data Science ecosystem.\n",
    "- Learn basic arithmetic expressions and operations in Python.\n",
    "- Practice converting units, such as minutes to hours, using Python.\n"
   ]
  },
  {
   "cell_type": "markdown",
   "id": "c20984e8-db8d-4053-8ef0-3c41538ecbc9",
   "metadata": {},
   "source": [
    "## Author\n",
    "Muhammad Rafay.\n"
   ]
  }
 ],
 "metadata": {
  "kernelspec": {
   "display_name": "Python",
   "language": "python",
   "name": "conda-env-python-py"
  },
  "language_info": {
   "codemirror_mode": {
    "name": "ipython",
    "version": 3
   },
   "file_extension": ".py",
   "mimetype": "text/x-python",
   "name": "python",
   "nbconvert_exporter": "python",
   "pygments_lexer": "ipython3",
   "version": "3.7.12"
  }
 },
 "nbformat": 4,
 "nbformat_minor": 5
}
